{
 "cells": [
  {
   "cell_type": "code",
   "execution_count": 1,
   "id": "4223c98c",
   "metadata": {},
   "outputs": [],
   "source": [
    "from datasets import load_dataset\n",
    "\n",
    "# 加载 tinyMMLU 数据集\n",
    "tiny_data = load_dataset('tinyBenchmarks/tinyMMLU')['test']\n"
   ]
  },
  {
   "cell_type": "code",
   "execution_count": 2,
   "id": "fee71fb4",
   "metadata": {
    "scrolled": true
   },
   "outputs": [],
   "source": [
    "# 打印示例\n",
    "#print(tiny_data.shape)\n",
    "#print(tiny_data[0])"
   ]
  },
  {
   "cell_type": "code",
   "execution_count": 6,
   "id": "0a7f016c",
   "metadata": {},
   "outputs": [],
   "source": [
    "from zhipuai import ZhipuAI\n",
    "import re\n",
    "import os\n",
    "import json\n",
    "\n",
    "# 初始化模型客户端\n",
    "client = ZhipuAI(api_key=\"……\")  # API Key\n",
    "# 定义正则表达式用于提取答案\n",
    "answer_pattern = r\"Answer:?\\s*([A-D])\"\n",
    "\n",
    "# 存储响应数据的文件路径\n",
    "response_file = \"responses.json\"\n",
    "\n",
    "# 如果文件存在，则加载数据\n",
    "if os.path.exists(response_file):\n",
    "    with open(response_file, \"r\", encoding=\"utf-8\") as f:\n",
    "        response_data = json.load(f)\n",
    "else:\n",
    "    response_data = {}  # 初始化为空字典\n"
   ]
  },
  {
   "cell_type": "code",
   "execution_count": 7,
   "id": "070de264",
   "metadata": {},
   "outputs": [
    {
     "name": "stdout",
     "output_type": "stream",
     "text": [
      "模型生成的响应已处理完成。\n"
     ]
    }
   ],
   "source": [
    "# 遍历数据集\n",
    "for idx, sample in enumerate(tiny_data):\n",
    "    prompt = sample[\"input_formatted\"]\n",
    "\n",
    "    # 如果当前问题已存在于响应数据中，跳过调用\n",
    "    if str(idx) in response_data:\n",
    "        continue\n",
    "\n",
    "    # 调用模型 API\n",
    "    response = client.chat.completions.create(\n",
    "        model=\"glm-4-9b\",\n",
    "        messages=[{\"role\": \"user\", \"content\": prompt}],\n",
    "        stream=False\n",
    "    )\n",
    "\n",
    "    # 获取完整生成的文本\n",
    "    generated_text = response.choices[0].message.content.strip()\n",
    "\n",
    "    # 保存到字典中，包含问题下标\n",
    "    response_data[str(idx)] = {\n",
    "        \"index\": idx,  # 问题下标\n",
    "        \"question\": sample[\"question\"],\n",
    "        \"choices\": sample[\"choices\"],\n",
    "        \"correct_answer\": sample[\"choices\"][sample[\"answer\"]],\n",
    "        \"generated_response\": generated_text\n",
    "    }\n",
    "\n",
    "# 提示处理完成\n",
    "print(\"模型生成的响应已处理完成。\")\n"
   ]
  },
  {
   "cell_type": "code",
   "execution_count": 8,
   "id": "33281c15",
   "metadata": {},
   "outputs": [
    {
     "name": "stdout",
     "output_type": "stream",
     "text": [
      "所有响应已保存至 responses_with_index.json 文件。\n"
     ]
    }
   ],
   "source": [
    "# 将响应字典写入 JSON 文件\n",
    "with open(response_file, \"w\", encoding=\"utf-8\") as f:\n",
    "    json.dump(response_data, f, ensure_ascii=False, indent=4)\n",
    "\n",
    "print(\"所有响应已保存至 responses_with_index.json 文件。\")\n"
   ]
  },
  {
   "cell_type": "code",
   "execution_count": 9,
   "id": "0a1cd9a5",
   "metadata": {},
   "outputs": [
    {
     "name": "stdout",
     "output_type": "stream",
     "text": [
      "   Predicted Answer\n",
      "0                  \n",
      "0                 D\n",
      "1                 C\n",
      "2                 B\n",
      "3                 F\n",
      "4                 C\n",
      "..              ...\n",
      "95                A\n",
      "96                A\n",
      "97                B\n",
      "98                A\n",
      "99                F\n",
      "\n",
      "[100 rows x 1 columns]\n"
     ]
    }
   ],
   "source": [
    "import pandas as pd\n",
    "import numpy as np\n",
    "\n",
    "file_path = \"answer.xlsx\"\n",
    "# 读取文件，将第一列设置为索引，并指定没有表头\n",
    "df = pd.read_excel(file_path, header=None, index_col=0)\n",
    "# 将第二列重命名为 'Answer' 或其他你喜欢的名称\n",
    "df.columns = ['Predicted Answer']\n",
    "# 查看数据\n",
    "print(df)"
   ]
  },
  {
   "cell_type": "code",
   "execution_count": 10,
   "id": "214e2f8e",
   "metadata": {},
   "outputs": [
    {
     "name": "stdout",
     "output_type": "stream",
     "text": [
      "评分向量: [1 1 1 0 1 1 1 0 0 0 1 1 1 0 1 1 1 1 0 1 0 1 1 1 1 0 1 1 0 0 1 1 0 0 1 1 1\n",
      " 1 1 0 1 0 1 1 1 1 1 1 1 1 1 1 0 0 1 0 0 0 0 1 0 1 0 1 1 1 1 1 1 1 1 1 1 1\n",
      " 0 1 1 1 1 0 0 0 1 1 0 1 1 1 1 1 1 1 1 1 1 0 1 0 0 0]\n",
      "正确率 0.69\n"
     ]
    }
   ],
   "source": [
    "# 初始化评分向量\n",
    "y = []\n",
    "\n",
    "# 定义选项映射表\n",
    "answer_map = {\"A\": 0, \"B\": 1, \"C\": 2, \"D\": 3}\n",
    "num = 0\n",
    "# 遍历 tinyMMLU 数据集\n",
    "for idx, sample in enumerate(tiny_data):\n",
    "    # 检查当前索引是否在预测数据中\n",
    "    if idx in df.index:\n",
    "        # 获取预测答案\n",
    "        predicted_answer = df.loc[idx, \"Predicted Answer\"].strip()\n",
    "        #print(predicted_answer)\n",
    "        predicted_answer_mapped = answer_map.get(predicted_answer, \"-1\")  # 映射为数字，若无效返回 \"-1\"\n",
    "        #print(predicted_answer_mapped)\n",
    "        # 获取正确答案\n",
    "        correct_index = sample[\"answer\"]  # 正确答案索引\n",
    "        correct_answer = sample[\"choices\"][correct_index]  # 正确答案\n",
    "        \n",
    "        #print(correct_index)\n",
    "\n",
    "        # 比较预测答案与正确答案\n",
    "        if predicted_answer_mapped == correct_index:\n",
    "            y.append(1)  # 正确\n",
    "            num= num +1\n",
    "        else:\n",
    "            y.append(0)  # 错误\n",
    "\n",
    "# 转换为 NumPy 数组\n",
    "y = np.array(y)\n",
    "\n",
    "# 打印评分向量\n",
    "print(\"评分向量:\", y)\n",
    "print(\"正确率\",num/100)"
   ]
  },
  {
   "cell_type": "code",
   "execution_count": 11,
   "id": "27a36637",
   "metadata": {},
   "outputs": [
    {
     "name": "stdout",
     "output_type": "stream",
     "text": [
      "{'mmlu': {'irt': 0.7186072378115177, 'pirt': 0.6456080154503729, 'gpirt': 0.6537071224211837}}\n"
     ]
    }
   ],
   "source": [
    "import tinyBenchmarks as tb\n",
    "\n",
    "# 指定评估基准为 MMLU\n",
    "benchmark = 'mmlu'\n",
    "\n",
    "# 计算模型的评估分数\n",
    "results = tb.evaluate(y, benchmark)\n",
    "\n",
    "# 输出评估结果\n",
    "print(results)\n"
   ]
  }
 ],
 "metadata": {
  "kernelspec": {
   "display_name": "Python 3 (ipykernel)",
   "language": "python",
   "name": "python3"
  },
  "language_info": {
   "codemirror_mode": {
    "name": "ipython",
    "version": 3
   },
   "file_extension": ".py",
   "mimetype": "text/x-python",
   "name": "python",
   "nbconvert_exporter": "python",
   "pygments_lexer": "ipython3",
   "version": "3.11.4"
  }
 },
 "nbformat": 4,
 "nbformat_minor": 5
}
